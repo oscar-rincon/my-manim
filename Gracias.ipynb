{
 "cells": [
  {
   "cell_type": "code",
   "execution_count": 41,
   "metadata": {},
   "outputs": [],
   "source": [
    "from jax import jit\n",
    "\n",
    "from jwave import FourierSeries\n",
    "from jwave.acoustics.time_varying import simulate_wave_propagation\n",
    "from jwave.geometry import Domain, Medium, TimeAxis\n",
    "from jwave.utils import load_image_to_numpy\n",
    "\n",
    "import numpy as np\n",
    "import matplotlib.pyplot as plt\n",
    "import imageio\n",
    " \n",
    " \n",
    "# Simulation parameters\n",
    "N, dx = (256, 256), (0.1e-3, 0.1e-3)\n",
    "domain = Domain(N, dx)\n",
    "medium = Medium(domain=domain, sound_speed=1500.)\n",
    "time_axis = TimeAxis.from_medium(medium, cfl=0.3, t_end=1.8e-05)\n",
    "\n",
    "# Initial pressure field\n",
    "p0 = load_image_to_numpy(\"gracias.png\", image_size=N)/255.\n",
    "p0 = FourierSeries(p0, domain)\n",
    "\n",
    "# Compile and run the simulation\n",
    "@jit\n",
    "def solver(medium, p0):\n",
    "  return simulate_wave_propagation(medium, time_axis, p0=p0)\n",
    "\n",
    "pressure = solver(medium, p0)"
   ]
  },
  {
   "cell_type": "code",
   "execution_count": 44,
   "metadata": {},
   "outputs": [
    {
     "name": "stderr",
     "output_type": "stream",
     "text": [
      "/tmp/ipykernel_91261/3858432538.py:11: DeprecationWarning: Starting with ImageIO v3 the behavior of this function will switch to that of iio.v3.imread. To keep the current behavior (and make this warning disappear) use `import imageio.v2 as imageio` or call `imageio.v2.imread` directly.\n",
      "  frames.append(imageio.imread(filename))\n"
     ]
    }
   ],
   "source": [
    "for i in range(900):\n",
    "    plt.imshow(pressure[i].params, cmap='seismic', vmin=-1, vmax=1)\n",
    "    plt.axis('off')\n",
    "    plt.savefig('gracias/frame_{:03d}.png'.format(i), bbox_inches='tight', pad_inches=0)\n",
    "    plt.close()\n",
    "\n",
    "# Crear una lista de frames a partir de las imágenes guardadas\n",
    "frames = []\n",
    "for i in range(900):\n",
    "    filename = 'gracias/frame_{:03d}.png'.format(i)\n",
    "    frames.append(imageio.imread(filename))"
   ]
  },
  {
   "cell_type": "code",
   "execution_count": 45,
   "metadata": {},
   "outputs": [],
   "source": [
    "imageio.mimsave('gracias.gif', frames, fps=30)"
   ]
  },
  {
   "cell_type": "code",
   "execution_count": null,
   "metadata": {},
   "outputs": [],
   "source": []
  }
 ],
 "metadata": {
  "kernelspec": {
   "display_name": "my-manim-environment",
   "language": "python",
   "name": "python3"
  },
  "language_info": {
   "codemirror_mode": {
    "name": "ipython",
    "version": 3
   },
   "file_extension": ".py",
   "mimetype": "text/x-python",
   "name": "python",
   "nbconvert_exporter": "python",
   "pygments_lexer": "ipython3",
   "version": "3.12.9"
  }
 },
 "nbformat": 4,
 "nbformat_minor": 2
}
