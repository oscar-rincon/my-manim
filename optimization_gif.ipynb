{
 "cells": [
  {
   "cell_type": "code",
   "execution_count": 4,
   "metadata": {},
   "outputs": [],
   "source": [
    "import shutil\n",
    "import os\n",
    "import imageio"
   ]
  },
  {
   "cell_type": "code",
   "execution_count": 9,
   "metadata": {},
   "outputs": [],
   "source": [
    "import shutil\n",
    "import os\n",
    "import imageio\n",
    "\n",
    "# Delete the folder if it exists\n",
    "if os.path.exists('NS'):\n",
    "    shutil.rmtree('NS')\n",
    "\n",
    "# Create the folder\n",
    "os.makedirs('NS')\n",
    "\n",
    "# Read the GIF\n",
    "gif = imageio.mimread('NS.gif')\n",
    "\n",
    "# Save every 10th frame as a PNG with numbers from 01 to 10\n",
    "counter = 0\n",
    "for i in range(0, len(gif), len(gif) // 10):\n",
    "    filename = f'NS/frame_{counter:02d}.png'\n",
    "    imageio.imwrite(filename, gif[i])\n",
    "    counter += 1"
   ]
  },
  {
   "cell_type": "code",
   "execution_count": null,
   "metadata": {},
   "outputs": [],
   "source": []
  }
 ],
 "metadata": {
  "kernelspec": {
   "display_name": "my-manim-environment",
   "language": "python",
   "name": "python3"
  },
  "language_info": {
   "codemirror_mode": {
    "name": "ipython",
    "version": 3
   },
   "file_extension": ".py",
   "mimetype": "text/x-python",
   "name": "python",
   "nbconvert_exporter": "python",
   "pygments_lexer": "ipython3",
   "version": "3.12.9"
  }
 },
 "nbformat": 4,
 "nbformat_minor": 2
}
